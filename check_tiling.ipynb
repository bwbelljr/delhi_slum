{
 "cells": [
  {
   "cell_type": "code",
   "execution_count": 1,
   "metadata": {},
   "outputs": [],
   "source": [
    "import os\n",
    "import rasterio"
   ]
  },
  {
   "cell_type": "code",
   "execution_count": 2,
   "metadata": {},
   "outputs": [],
   "source": [
    "def find_images(path):\n",
    "    for root, dirs, files in os.walk(path, topdown=False):\n",
    "        for name in files:\n",
    "            if os.path.splitext(name)[-1] == \".tif\":\n",
    "                yield os.path.join(root, name)"
   ]
  },
  {
   "cell_type": "code",
   "execution_count": 12,
   "metadata": {},
   "outputs": [
    {
     "name": "stdout",
     "output_type": "stream",
     "text": [
      "./output_folder/tile_0_0.tif (1000, 1000)\n",
      "[False, False, False, False]\n",
      "./output_folder/tile_0_1000.tif (1000, 1000)\n",
      "[False, False, False, False]\n",
      "./output_folder/tile_0_2000.tif (1000, 1000)\n",
      "[False, False, False, False]\n",
      "./output_folder/tile_0_3000.tif (1000, 1000)\n",
      "[False, False, False, False]\n",
      "./output_folder/tile_0_4000.tif (1000, 1000)\n",
      "[False, False, False, False]\n",
      "./output_folder/tile_0_5000.tif (1000, 1000)\n",
      "[False, False, False, False]\n",
      "./output_folder/tile_0_6000.tif (1000, 1000)\n",
      "[False, False, False, False]\n",
      "./output_folder/tile_1000_0.tif (1000, 1000)\n",
      "[False, False, False, False]\n",
      "./output_folder/tile_1000_1000.tif (1000, 1000)\n",
      "[False, False, False, False]\n",
      "./output_folder/tile_1000_2000.tif (1000, 1000)\n",
      "[False, False, False, False]\n",
      "./output_folder/tile_1000_3000.tif (1000, 1000)\n",
      "[False, False, False, False]\n",
      "./output_folder/tile_1000_4000.tif (1000, 1000)\n",
      "[False, False, False, False]\n",
      "./output_folder/tile_1000_5000.tif (1000, 1000)\n",
      "[False, False, False, False]\n",
      "./output_folder/tile_1000_6000.tif (1000, 1000)\n",
      "[False, False, False, False]\n",
      "./output_folder/tile_2000_0.tif (1000, 1000)\n",
      "[False, False, False, False]\n",
      "./output_folder/tile_2000_1000.tif (1000, 1000)\n",
      "[False, False, False, False]\n",
      "./output_folder/tile_2000_2000.tif (1000, 1000)\n",
      "[False, False, False, False]\n",
      "./output_folder/tile_2000_3000.tif (1000, 1000)\n",
      "[False, False, False, False]\n",
      "./output_folder/tile_2000_4000.tif (1000, 1000)\n",
      "[False, False, False, False]\n",
      "./output_folder/tile_2000_5000.tif (1000, 1000)\n",
      "[False, False, False, False]\n",
      "./output_folder/tile_2000_6000.tif (1000, 1000)\n",
      "[False, False, False, False]\n",
      "./output_folder/tile_3000_0.tif (1000, 1000)\n",
      "[False, False, False, False]\n",
      "./output_folder/tile_3000_1000.tif (1000, 1000)\n",
      "[False, False, False, False]\n",
      "./output_folder/tile_3000_2000.tif (1000, 1000)\n",
      "[False, False, False, False]\n",
      "./output_folder/tile_3000_3000.tif (1000, 1000)\n",
      "[False, False, False, False]\n",
      "./output_folder/tile_3000_4000.tif (1000, 1000)\n",
      "[False, False, False, False]\n",
      "./output_folder/tile_3000_5000.tif (1000, 1000)\n",
      "[False, False, False, False]\n",
      "./output_folder/tile_3000_6000.tif (1000, 1000)\n",
      "[False, False, False, False]\n",
      "./output_folder/tile_4000_0.tif (1000, 1000)\n",
      "[False, False, False, False]\n",
      "./output_folder/tile_4000_1000.tif (1000, 1000)\n",
      "[False, False, False, False]\n",
      "./output_folder/tile_4000_2000.tif (1000, 1000)\n",
      "[False, False, False, False]\n",
      "./output_folder/tile_4000_3000.tif (1000, 1000)\n",
      "[False, False, False, False]\n",
      "./output_folder/tile_4000_4000.tif (1000, 1000)\n",
      "[False, False, False, False]\n",
      "./output_folder/tile_4000_5000.tif (1000, 1000)\n",
      "[False, False, False, False]\n",
      "./output_folder/tile_4000_6000.tif (1000, 1000)\n",
      "[False, False, False, False]\n",
      "./output_folder/tile_5000_0.tif (1000, 1000)\n",
      "[False, False, False, False]\n",
      "./output_folder/tile_5000_1000.tif (1000, 1000)\n",
      "[False, False, False, False]\n",
      "./output_folder/tile_5000_2000.tif (1000, 1000)\n",
      "[False, False, False, False]\n",
      "./output_folder/tile_5000_3000.tif (1000, 1000)\n",
      "[False, False, False, False]\n",
      "./output_folder/tile_5000_4000.tif (1000, 1000)\n",
      "[False, False, False, False]\n",
      "./output_folder/tile_5000_5000.tif (1000, 1000)\n",
      "[False, False, False, False]\n",
      "./output_folder/tile_5000_6000.tif (1000, 1000)\n",
      "[False, False, False, False]\n"
     ]
    }
   ],
   "source": [
    "for file_name in find_images(\"./output_folder/\"):\n",
    "    with rasterio.open(file_name, \"r\", driver=\"GTiff\") as source:\n",
    "        print(file_name, source.shape)\n",
    "        no_data = source.nodata\n",
    "        bands = source.read()\n",
    "        got_nulls = [no_data in band for band in bands]\n",
    "        print(got_nulls)\n",
    "        if False not in got_nulls: # we want list elements to all be True\n",
    "            print(\"File {} NodataValue {}, has {} Bands, Got Nulls {}\".format(file_name, no_data, len(bands), got_nulls))"
   ]
  },
  {
   "cell_type": "markdown",
   "metadata": {},
   "source": [
    "# Let's come back to this code. Need to figure out how to detect no_data in bands, through rasterio, gdal, and/or numpy."
   ]
  }
 ],
 "metadata": {
  "kernelspec": {
   "display_name": "Python [conda env:anaconda3]",
   "language": "python",
   "name": "conda-env-anaconda3-py"
  },
  "language_info": {
   "codemirror_mode": {
    "name": "ipython",
    "version": 3
   },
   "file_extension": ".py",
   "mimetype": "text/x-python",
   "name": "python",
   "nbconvert_exporter": "python",
   "pygments_lexer": "ipython3",
   "version": "3.7.0"
  }
 },
 "nbformat": 4,
 "nbformat_minor": 2
}
